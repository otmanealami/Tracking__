{
 "cells": [
  {
   "cell_type": "markdown",
   "metadata": {
    "id": "nTxNrCZi9zEb"
   },
   "source": [
    "#Packages"
   ]
  },
  {
   "cell_type": "code",
   "execution_count": 3,
   "metadata": {
    "id": "WWyLOApIAyeT"
   },
   "outputs": [],
   "source": [
    "import numpy\n",
    "from numpy.linalg import norm\n",
    "from numpy import dot,array\n",
    "import matplotlib.pyplot as plt\n",
    "from matplotlib.patches import Rectangle, Circle\n",
    "import matplotlib.patches as patches\n",
    "from pylab import show,imshow\n",
    "import heapq\n",
    "from math import *\n",
    "import cvxopt\n",
    "from cvxopt import matrix,solvers\n",
    "import random\n",
    "import time\n",
    "import os\n",
    "import matplotlib.animation as animation\n",
    "import cv2\n",
    "from IPython import display\n",
    "from tqdm import tqdm"
   ]
  },
  {
   "cell_type": "markdown",
   "metadata": {
    "id": "CH9ZeH9f6kJc"
   },
   "source": [
    "#Initialiser la géométrie"
   ]
  },
  {
   "cell_type": "code",
   "execution_count": 4,
   "metadata": {
    "id": "jEDMMyYqVANL"
   },
   "outputs": [],
   "source": [
    "def draw(Ex, Obs, Obs_cir, scene, agents, t, savepath, play = False):\n",
    "    \n",
    "    L , l = scene\n",
    "    ratio = l/L\n",
    "    c = 10\n",
    "    \n",
    "    fig, ax = plt.subplots(figsize=(c/ratio,c))\n",
    "\n",
    "    title = ax.text(0.5, 1.05, \"Temps de simulation : %s s \\n Nombre des agents : %s\" %(t,len(agents)), \n",
    "                    transform=ax.transAxes, ha=\"center\", size=20)\n",
    "\n",
    "    #Draw the environment\n",
    "    plt.plot([0, L], [0, 0], 'white')\n",
    "    plt.plot([L, L], [0, l], 'white')\n",
    "    plt.plot([L, 0], [l,l], 'white')\n",
    "    plt.plot([0,0], [l,0], 'white')\n",
    "\n",
    "    \n",
    "    #Draw Obstacle\n",
    "    for obs in Obs:\n",
    "        rect = Rectangle(obs.position, obs.width, obs.height)\n",
    "        rect.set_color('black')\n",
    "        ax.add_patch(rect)\n",
    "\n",
    "    #Draw Obstacle Cir\n",
    "    for obs in Obs_cir:\n",
    "        circle = Circle(obs.position, obs.rayon)\n",
    "        circle.set_color('black')\n",
    "        ax.add_patch(circle)\n",
    "    \n",
    "    #Draw exits\n",
    "    for e in Ex:\n",
    "        rect = Rectangle(e.position, e.width, e.height)\n",
    "        rect.set_color('orange')\n",
    "        ax.add_patch(rect)\n",
    "\n",
    "    #Draw agents\n",
    "    for agent in agents:\n",
    "        x,y = agent.position\n",
    "        circle = Circle((x,y), agent.size)\n",
    "        circle.set_color(agent.color)\n",
    "        ax.add_patch(circle)\n",
    "\n",
    "    plt.xticks(fontsize=20)\n",
    "    plt.yticks(fontsize=20)\n",
    "    \n",
    "    fig.savefig(savepath)\n",
    "\n",
    "    if not play:\n",
    "        plt.close()"
   ]
  },
  {
   "cell_type": "code",
   "execution_count": 5,
   "metadata": {
    "id": "CzptQbYITKIV"
   },
   "outputs": [],
   "source": [
    "def record_video(speed = 25):\n",
    "    print('Recording video ...')\n",
    "    frame = cv2.imread('DossierImages/simulation' + str(10) + '.jpg')\n",
    "    height, width, layers = frame.shape\n",
    "\n",
    "    fourcc = cv2.VideoWriter_fourcc(*'XVID')\n",
    "    video = cv2.VideoWriter('video.avi', fourcc, speed, (width,height))\n",
    "\n",
    "    for k in range(N_iter):\n",
    "        video.write(cv2.imread('DossierImages/simulation' + str(k+1) + '.jpg'))\n",
    "\n",
    "    cv2.destroyAllWindows()\n",
    "    video.release()\n",
    "    print('Video saved.')"
   ]
  },
  {
   "cell_type": "code",
   "execution_count": 38,
   "metadata": {},
   "outputs": [
    {
     "data": {
      "text/plain": [
       "2.1130725739329326"
      ]
     },
     "execution_count": 38,
     "metadata": {},
     "output_type": "execute_result"
    }
   ],
   "source": [
    "\n",
    "def rand_float_range(start, end):\n",
    "    return random.random() * (end - start) + start\n",
    "rand_float_range(int(0),int(a))"
   ]
  },
  {
   "cell_type": "code",
   "execution_count": 7,
   "metadata": {
    "id": "KquUTqkMPSAU"
   },
   "outputs": [],
   "source": [
    "def generate_indiv(N):\n",
    "\n",
    "    def rand_float_range(start, end):\n",
    "        return random.random() * (end - start) + start\n",
    "\n",
    "    a , b = size_scene\n",
    "    dst = 0.2\n",
    "    r = 0.2\n",
    "    L = list()\n",
    "\n",
    "    while len(L) < N:\n",
    "\n",
    "        choc = False\n",
    "\n",
    "        q = [agent.position for agent in L]\n",
    "        R = [agent.size for agent in L]\n",
    "    \n",
    "        x = rand_float_range(int(0),int(a))\n",
    "        y = rand_float_range(int(0),int(b))\n",
    "    \n",
    "        q.append([x,y])\n",
    "        R.append(r)\n",
    "\n",
    "\n",
    "        for j in range(len(q)-1):\n",
    "            if dist(q[-1], q[j]) - (R[-1]+R[j]) <= dst:\n",
    "                choc = True\n",
    "                break\n",
    "        \n",
    "        #chocs obstacle\n",
    "        for obstacle in obstacles_cir:\n",
    "            [a0, b0], rayon = obstacle.position, obstacle.rayon\n",
    "            if (x-a0)**2 + (y-b0)**2 < (rayon+3)**2 : choc = True\n",
    "            \n",
    "        for obstacle in obstacles:\n",
    "            [a0, b0], w, l = obstacle.position, obstacle.width, obstacle.height\n",
    "            a1, b1 = a0 + w , b0 + l\n",
    "\n",
    "            if (a0<=x<=a1 and b0-r-0.5<=y<=b1+r+0.5) or (b0<=y<=b1 and a0-r-0.5<=x<=a1+r+0.5): choc = True\n",
    "            elif distance_vecteur_obs([x,y] , r, obstacle)[0] < 0.5: choc = True\n",
    "\n",
    "        if not choc:\n",
    "            agent = myAgent((x,y))\n",
    "            agent.size = r\n",
    "            L.append(agent)\n",
    "\n",
    "    return L"
   ]
  },
  {
   "cell_type": "code",
   "execution_count": 8,
   "metadata": {
    "id": "azqQjUrmVEl5"
   },
   "outputs": [],
   "source": [
    "def maxiMini(FX,FY):\n",
    "  maxi = 0\n",
    "  Mini = 0\n",
    "  for i in range(n):\n",
    "    for j in range(len(FX[0])):\n",
    "      fx , fy = FX[i][j] , FY[i][j]\n",
    "      if fx != float('inf') and fx != -float('inf') and fy != float('inf') and fy != -float('inf') and not isnan(fx) and not isnan(fy):\n",
    "        if fx>maxi :\n",
    "          maxi = fx\n",
    "        if fy>maxi :\n",
    "          maxi = fy\n",
    "        if fx<Mini : \n",
    "          Mini = fx\n",
    "        if fy<Mini :\n",
    "          Mini = fy\n",
    "\n",
    "  return maxi , Mini\n",
    "\n",
    "def plot_directions(FX,FY):\n",
    "  fig, axes = plt.subplots(nrows=1, ncols=2, figsize=(15,15))\n",
    "  Z = [FX, FY]\n",
    "  text = ['Directions selon X', 'Directions selon Y']\n",
    "  maxi , Mini = maxiMini(FX,FY)\n",
    "\n",
    "  for ax, i in zip(axes.flat, range(2)):\n",
    "      im = ax.imshow(Z[i], interpolation=\"bicubic\", origin=\"upper\", vmin=Mini, vmax=maxi)\n",
    "      ax.title.set_text(text[i])\n",
    "\n",
    "  fig.subplots_adjust(right=0.8)\n",
    "  cbar_ax = fig.add_axes([0.85, 0.35, 0.05, 0.3])\n",
    "  fig.colorbar(im, cax=cbar_ax)\n",
    "\n",
    "  plt.show()"
   ]
  },
  {
   "cell_type": "code",
   "execution_count": 9,
   "metadata": {
    "id": "GvqNgHMyPLB_"
   },
   "outputs": [],
   "source": [
    "class Exit:\n",
    "  \n",
    "    def __init__(self,position,width,height):\n",
    "\n",
    "        self.position = position\n",
    "        self.width = width\n",
    "        self.height = height"
   ]
  },
  {
   "cell_type": "code",
   "execution_count": 10,
   "metadata": {
    "id": "y7ODO2ZdPe6m"
   },
   "outputs": [],
   "source": [
    "class Obstacle():\n",
    "\n",
    "    def __init__(self, position,width,height):\n",
    "\n",
    "        self.position=position\n",
    "        self.width=width\n",
    "        self.height=height\n",
    "        \n",
    "    def __repr__(self):\n",
    "        return 'Obstacle'+'\\n'+'DL:'+str(self.position)+'DR:'+str((self.position[0]+self.width,self.position[1]))+'UR:'+str((self.position[0]+self.width,self.position[1]+self.height))+'UL:'+str((self.position[0]+self.width,self.position[1]))"
   ]
  },
  {
   "cell_type": "code",
   "execution_count": 11,
   "metadata": {
    "id": "KgQvJnr5x__V"
   },
   "outputs": [],
   "source": [
    "class Obstacle_Cir():\n",
    "\n",
    "    def __init__(self, position,rayon):\n",
    "        self.position=position\n",
    "        self.rayon=rayon"
   ]
  },
  {
   "cell_type": "markdown",
   "metadata": {
    "id": "jbysM4sGCF9R"
   },
   "source": [
    "#Fast Marching"
   ]
  },
  {
   "cell_type": "code",
   "execution_count": 12,
   "metadata": {
    "id": "89a7RytWMEoc"
   },
   "outputs": [],
   "source": [
    "class PriorityQueue():\n",
    "\n",
    "\n",
    "    def __init__(self):\n",
    "        self.queue = []\n",
    "        self.current = 0\n",
    "\n",
    "    def pop(self):\n",
    "        return heapq.heappop(self.queue)\n",
    "\n",
    "    def remove(self, nodeId):\n",
    "        for i in range(len(self.queue)):\n",
    "            if self.queue[i][1]==nodeId:\n",
    "                self.queue.pop(i)\n",
    "                break;\n",
    "\n",
    "    def __iter__(self):\n",
    "        return self\n",
    "\n",
    "    def __str__(self):\n",
    "        return 'PQ:[%s]'%(', '.join([str(i) for i in self.queue]))\n",
    "\n",
    "    def append(self, node):\n",
    "        heapq.heappush(self.queue,node)\n",
    "\n",
    "    def __contains__(self, key):\n",
    "        self.current = 0\n",
    "        return key in [n for _,n in self.queue]\n",
    "\n",
    "    def __eq__(self, other):\n",
    "        self.curent = 0\n",
    "        return self == other\n",
    "\n",
    "    def __getitem__(self, nodeId):\n",
    "        for element in self.queue:\n",
    "            if element[1]==nodeId:\n",
    "                return element\n",
    "        return None\n",
    "\n",
    "    def clear(self):\n",
    "        self.queue = []\n",
    "\n",
    "    def __len__(self):\n",
    "        return len(self.queue)\n",
    "\n",
    "    __next__ = next"
   ]
  },
  {
   "cell_type": "code",
   "execution_count": 84,
   "metadata": {
    "id": "D8I_pTxyMLgT"
   },
   "outputs": [],
   "source": [
    "class GridGraph:\n",
    "\n",
    "    global OBSTACLE\n",
    "    global EXIT\n",
    "    OBSTACLE = 0\n",
    "    EXIT = 2\n",
    "\n",
    "    def __init__(self,size_scene,precision):\n",
    "        self.precision = precision\n",
    "        self.horizontal_size = int(size_scene[0]*precision)+1\n",
    "        self.vertical_size = int(size_scene[1]*precision)+1\n",
    "        self.indicator_map = numpy.ones((self.vertical_size,self.horizontal_size))\n",
    "        self.distances = numpy.ones((self.vertical_size,self.horizontal_size))*float('inf')\n",
    "\n",
    "    def get_neighbours(self,node):\n",
    "        result = {};\n",
    "        if node[1]<self.horizontal_size-1:\n",
    "            result['x+1']=(node[0],node[1]+1);\n",
    "        if node[1]>0:\n",
    "            result['x-1']=(node[0],node[1]-1);\n",
    "        if node[0]<self.vertical_size-1:\n",
    "            result['y+1']=(node[0]+1,node[1]);\n",
    "        if node[0]>0:\n",
    "            result['y-1']=(node[0]-1,node[1]);\n",
    "        return result;\n",
    "\n",
    "    def to_node(self,coordinates):\n",
    "        return (int(coordinates[1]*self.precision),int(coordinates[0]*self.precision))\n",
    "\n",
    "    def prepare_graph_for_fast_marching(self,obstacles, obstacles_cir, exits):\n",
    "        for obstacle in obstacles:\n",
    "            dl = (obstacle.position[0],obstacle.position[1])\n",
    "            ur = (obstacle.position[0]+obstacle.width,obstacle.position[1]+obstacle.height)\n",
    "\n",
    "            for x in range(self.to_node(dl)[0]+1,self.to_node(ur)[0]):\n",
    "                for y in range(self.to_node(dl)[1]+1,self.to_node(ur)[1]):\n",
    "                    if x>=0 and x<self.indicator_map.shape[0] and y>=0 and y<self.indicator_map.shape[1]:\n",
    "                        self.indicator_map[x,y]=OBSTACLE\n",
    "\n",
    "        for obstacle_cir in obstacles_cir:\n",
    "            dl = (obstacle_cir.position[0] - obstacle_cir.rayon , obstacle_cir.position[1] - obstacle_cir.rayon)\n",
    "            ur = (obstacle_cir.position[0] + obstacle_cir.rayon , obstacle_cir.position[1] + obstacle_cir.rayon)\n",
    "\n",
    "            for x in range(self.to_node(dl)[0]+1,self.to_node(ur)[0]):\n",
    "                for y in range(self.to_node(dl)[1]+1,self.to_node(ur)[1]):\n",
    "                    if x>=0 and x<self.indicator_map.shape[0] and y>=0 and y<self.indicator_map.shape[1]:\n",
    "                        if (x/self.precision - obstacle_cir.position[1])**2 + (y/self.precision - obstacle_cir.position[0])**2 <= obstacle_cir.rayon**2:\n",
    "                            self.indicator_map[x,y]=OBSTACLE\n",
    "\n",
    "        for exit_ in exits:\n",
    "            dl = (exit_.position[0],exit_.position[1])\n",
    "            ur = (exit_.position[0]+exit_.width,exit_.position[1]+exit_.height)\n",
    "            for x in range(self.to_node(dl)[0],self.to_node(ur)[0]+1):\n",
    "                for y in range(self.to_node(dl)[1],self.to_node(ur)[1]+1):\n",
    "                    if x>=0 and x<self.indicator_map.shape[0] and y>=0 and y<self.indicator_map.shape[1]:\n",
    "                        self.indicator_map[x,y]=EXIT"
   ]
  },
  {
   "cell_type": "code",
   "execution_count": 14,
   "metadata": {
    "id": "qFaXywX7CIGR"
   },
   "outputs": [],
   "source": [
    "def fast_marching_method(graph,start):\n",
    "    \n",
    "    def calculus_distance(node,graph,weights):\n",
    "        neighbours = graph.get_neighbours(node);\n",
    "        if 'y-1' in neighbours :\n",
    "            if 'y+1' in neighbours:\n",
    "                x1 = min(weights[neighbours['y-1']],weights[neighbours['y+1']]);\n",
    "            else :\n",
    "                x1 = weights[neighbours['y-1']];\n",
    "        else :\n",
    "            if 'y+1' in neighbours:\n",
    "                x1 = weights[neighbours['y+1']];\n",
    "        if 'x-1' in neighbours:\n",
    "            if 'x+1' in neighbours:\n",
    "                x2 = min(weights[neighbours['x-1']],weights[neighbours['x+1']]);\n",
    "            else :\n",
    "                x2 = weights[neighbours['x-1']];\n",
    "        else :\n",
    "            if 'x+1' in neighbours:\n",
    "                x2 = weights[neighbours['x+1']];\n",
    "        \n",
    "        if 2*h**2-(x1-x2)**2>=0:\n",
    "            return (x1+x2+(2*h**2-(x1-x2)**2)**0.5)/2\n",
    "        else:\n",
    "            return min(x1,x2)+h\n",
    "        \n",
    "    \n",
    "    frontier = PriorityQueue();\n",
    "    weights = graph.distances;\n",
    "    \n",
    "    explored = []\n",
    "    \n",
    "    goals = numpy.where(graph.indicator_map==2)\n",
    "    goals_x = goals[0]\n",
    "    goals_y = goals[1]\n",
    "    for i in range(goals_x.size):\n",
    "        frontier.append([0,(goals_x[i],goals_y[i])])\n",
    "        weights[(goals_x[i],goals_y[i])] = 0\n",
    "    \n",
    "       \n",
    "    while frontier:\n",
    "        node = frontier.pop();\n",
    "        explored.append(node[1])\n",
    "        #if node[1]==start:\n",
    "        #   return weights\n",
    "        neighbours = graph.get_neighbours(node[1]);\n",
    "        for neighbour in neighbours.values():\n",
    "            if neighbour not in explored and graph.indicator_map[neighbour]:\n",
    "                if not neighbour in frontier:\n",
    "                    frontier.append([calculus_distance(neighbour,graph,weights),neighbour])\n",
    "                    weights[neighbour]=calculus_distance(neighbour,graph,weights)\n",
    "                elif weights[neighbour] > calculus_distance(neighbour,graph,weights):\n",
    "                    frontier[neighbour][0]=calculus_distance(neighbour,graph,weights)\n",
    "                    weights[neighbour]=calculus_distance(neighbour,graph,weights)\n",
    "    graph.distances = weights"
   ]
  },
  {
   "cell_type": "code",
   "execution_count": 15,
   "metadata": {
    "id": "_NJ237vWtJWO"
   },
   "outputs": [],
   "source": [
    "def adjust_FM():\n",
    "\n",
    "    Lx_gauche = []\n",
    "    Lx_droite = []\n",
    "\n",
    "    for i in range(1,n):\n",
    "      for j in range(1,len(FX[0])-1):\n",
    "\n",
    "        u , v = FX[i][j] , FX[i][j+1]\n",
    "\n",
    "        if u == float('inf') or u == -float('inf'):\n",
    "          if v != float('inf') and v != -float('inf') and not isnan(v):\n",
    "            Lx_gauche.append((i,j))\n",
    "\n",
    "        if v == float('inf') or v == -float('inf'):\n",
    "          if u != float('inf') and u != -float('inf') and not isnan(u):\n",
    "            Lx_droite.append((i,j+1))\n",
    "\n",
    "    for cellule in Lx_gauche:\n",
    "      i, j = cellule\n",
    "      FX[i][j] = FX[i][j+1]\n",
    "\n",
    "    for cellule in Lx_droite:\n",
    "      i, j = cellule\n",
    "      FX[i][j] = FX[i][j-1]\n",
    "\n",
    "    Ly_haut = []\n",
    "    Ly_bas = []\n",
    "\n",
    "    for i in range(1,n-1):\n",
    "      for j in range(1,len(FY[0])):\n",
    "\n",
    "        u , v = FY[i][j] , FY[i+1][j]\n",
    "\n",
    "        if u == float('inf') or u == -float('inf'):\n",
    "          if v != float('inf') and v != -float('inf') and not isnan(v):\n",
    "            Ly_haut.append((i,j))\n",
    "\n",
    "        if v == float('inf') or v == -float('inf'):\n",
    "          if u != float('inf') and u != -float('inf') and not isnan(u):\n",
    "            Ly_bas.append((i+1,j))\n",
    "\n",
    "\n",
    "    for cellule in Ly_haut:\n",
    "      i, j = cellule\n",
    "      FY[i][j] = FY[i+1][j]\n",
    "\n",
    "    for cellule in Ly_bas:\n",
    "      i, j = cellule\n",
    "      FY[i][j] = FY[i-1][j]"
   ]
  },
  {
   "cell_type": "markdown",
   "metadata": {
    "id": "ntRK5OEVQ1ki"
   },
   "source": [
    "#MyAgent"
   ]
  },
  {
   "cell_type": "code",
   "execution_count": 16,
   "metadata": {
    "id": "2PZF5oY-Q3jJ"
   },
   "outputs": [],
   "source": [
    "class myAgent():\n",
    "    \n",
    "    def __init__(self, position):\n",
    "        self.position = numpy.array(position)\n",
    "        self.speed = (0,0)\n",
    "        self.D_S = (0,0)\n",
    "        self.size = 0.2\n",
    "        self.has_reached_exit = False\n",
    "        self.near_to_exit = False\n",
    "        self.masse = 80\n",
    "        self.color = 'red'\n",
    "\n",
    "    def desired_direction(self):\n",
    "        x, y = self.position\n",
    "        a, b = size_scene\n",
    "        n , m = int(x/h) , int((b-y)/h)\n",
    "        if n < 0 : n = 0\n",
    "        if m < 0 : m = 0\n",
    "        if n > len(FX[0])-1 : n = len(FX[0])-1\n",
    "        if m > len(FX)-1 : m = len(FX)-1\n",
    "        v = numpy.array((FX[m][n], FY[m][n]))\n",
    "        if norm(v)==0: return numpy.array((0,0))\n",
    "        return v / norm(v)\n",
    "\n",
    "    def update_D_S(self):\n",
    "        self.D_S = self.desired_direction()\n",
    "\n",
    "    def update_Speed(self, v):\n",
    "        self.speed = (v[0],v[1])\n",
    "\n",
    "    def reach_exit(self):\n",
    "        for ex in exits:\n",
    "            d , _ = distance_vecteur_obs(self.position , self.size, ex)\n",
    "            if d <= 0.2:\n",
    "                self.has_reached_exit = True\n",
    "                break\n",
    "\n",
    "    def update_Position(self, q):\n",
    "        self.position = q\n",
    "        self.reach_exit()"
   ]
  },
  {
   "cell_type": "markdown",
   "metadata": {
    "id": "6knrf8Rp52UA"
   },
   "source": [
    "#Fonctions"
   ]
  },
  {
   "cell_type": "code",
   "execution_count": 17,
   "metadata": {
    "id": "SmUeAhnK9S39"
   },
   "outputs": [],
   "source": [
    "#force motrice\n",
    "def f_motrice(agent):\n",
    "    tau = 0.5\n",
    "    return (numpy.array(agent.D_S)*2 - numpy.array(agent.speed))/tau\n",
    "\n",
    "#force répulsive objet\n",
    "def f_objet(agent):\n",
    "    \n",
    "    f = numpy.array([float(0),float(0)])\n",
    "\n",
    "    for ag in agents:\n",
    "\n",
    "        if ag != agent:\n",
    "\n",
    "            d, n = matrice_distance[agents.index(agent)][agents.index(ag)] , matrice_normaux[agents.index(agent)][agents.index(ag)]\n",
    "            f += alpha_obj * exp(-d/beta_obj) * n\n",
    "\n",
    "    return f\n",
    "    \n",
    "#force répulsive obstacle\n",
    "def f_obstacle(agent):\n",
    "    \n",
    "    f = numpy.array([float(0),float(0)])\n",
    "\n",
    "    for obs in obstacles[4:]:\n",
    "    \n",
    "        [d, n] = distance_vecteur_obs(agent.position , agent.size, obs)\n",
    "        f += alpha_obs * exp(-d/beta_obs) * n\n",
    "\n",
    "    for obst in obstacles_cir:\n",
    "\n",
    "        [d, n] = distance_vecteur_obs_cir(agent.position , agent.size, obst)\n",
    "        f += alpha_obs * exp(-d/beta_obs) * n\n",
    "      \n",
    "    return f"
   ]
  },
  {
   "cell_type": "code",
   "execution_count": 18,
   "metadata": {
    "id": "jT1WG4EIOSKc"
   },
   "outputs": [],
   "source": [
    "def dist(p1,p2):\n",
    "    return norm(numpy.array(p1)-numpy.array(p2))\n",
    "\n",
    "def distance_vecteur_obj(q1, q2, r1, r2):\n",
    "    d = dist(q1, q2)\n",
    "\n",
    "    n = -(numpy.array(q2) - numpy.array(q1))/d\n",
    "\n",
    "    d = d - (r1 + r2)\n",
    "\n",
    "    return d , n\n",
    "\n",
    "def distance_vecteur_obs_cir(q , r, obstacle):\n",
    "    [a0, b0], rayon = obstacle.position, obstacle.rayon\n",
    "    x , y = q\n",
    "    \n",
    "    d = ((x-a0)**2 + (y-b0)**2)**0.5 \n",
    "    n = -(numpy.array(obstacle.position) - numpy.array(q))/d\n",
    "    d = d - (rayon + r)\n",
    "\n",
    "    return d , n\n",
    "\n",
    "def distance_vecteur_obs(q , r, obstacle):\n",
    "    [a0, b0], L, l = obstacle.position, obstacle.width, obstacle.height\n",
    "    a1, b1 = a0 + L , b0 + l\n",
    "    x , y = q\n",
    "    point = []\n",
    "\n",
    "    if x<=a0:\n",
    "      if y>=b1:\n",
    "        point = [a0, b1]\n",
    "\n",
    "      elif b0<y<b1:\n",
    "        point = [a0, y]\n",
    "\n",
    "      else:\n",
    "        point = [a0, b0]\n",
    "\n",
    "    elif a0<x<a1:\n",
    "      if y>=b1:\n",
    "        point = [x, b1]\n",
    "\n",
    "      elif b0<y<b1:\n",
    "        point = [x, b1]\n",
    "\n",
    "      else:\n",
    "        point = [x, b0]\n",
    "\n",
    "    else:\n",
    "      if y>=b1:\n",
    "        point = [a1, b1]\n",
    "\n",
    "      elif b0<y<b1:\n",
    "        point = [a1, y]\n",
    "\n",
    "      else:\n",
    "        point = [a1, b0]\n",
    "        \n",
    "    d = dist(point , q)\n",
    "    n = (numpy.array(q) - numpy.array(point))/d\n",
    "\n",
    "    return d - r , n"
   ]
  },
  {
   "cell_type": "code",
   "execution_count": 19,
   "metadata": {
    "id": "aDC1uIqJdOQN"
   },
   "outputs": [],
   "source": [
    "def matrice_normals(q, R):\n",
    "\n",
    "    Normals = []\n",
    "    agents_en_chocs = []\n",
    "    m = len(q)\n",
    "\n",
    "    #chocs agents\n",
    "    for i in range(m):\n",
    "        \n",
    "        N = numpy.zeros(2*m)\n",
    "\n",
    "        for j in range(m):\n",
    "          if j != i:\n",
    "            d , n = distance_vecteur_obj(q[i], q[j], R[i], R[j])\n",
    "            if d <= 0.2:\n",
    "              N[2*i], N[2*i+1], N[2*j], N[2*j+1] = n[0], n[1], -n[0], -n[1]\n",
    "\n",
    "        if not all(v == 0 for v in N):\n",
    "          Normals.append(N)\n",
    "          agents_en_chocs.append(i)\n",
    "\n",
    "    #chocs obstacle\n",
    "    for obstacle in obstacles:\n",
    "        \n",
    "        N = numpy.zeros(2*m)\n",
    "\n",
    "        for i in range(m):\n",
    "          d , n = distance_vecteur_obs(q[i] , R[i], obstacle)\n",
    "          if d <= 0.2:\n",
    "            N[2*i], N[2*i+1] = n[0], n[1]\n",
    "            if N[2*i] != 0 or N[2*i+1] != 0:\n",
    "              agents_en_chocs.append(i)\n",
    "\n",
    "        if not all(v == 0 for v in N):\n",
    "          Normals.append(N)\n",
    "\n",
    "    #chocs obstacle circulaire\n",
    "    for obstacle in obstacles_cir:\n",
    "        \n",
    "        N = numpy.zeros(2*m)\n",
    "\n",
    "        for i in range(m):\n",
    "          d , n = distance_vecteur_obs_cir(q[i] , R[i], obstacle)\n",
    "          if d <= .2:\n",
    "            N[2*i], N[2*i+1] = n[0], n[1]\n",
    "            if N[2*i] != 0 or N[2*i+1] != 0:\n",
    "              agents_en_chocs.append(i)\n",
    "    \n",
    "        if not all(v == 0 for v in N):\n",
    "          Normals.append(N)\n",
    "\n",
    "    return numpy.array(Normals) , agents_en_chocs"
   ]
  },
  {
   "cell_type": "code",
   "execution_count": 20,
   "metadata": {
    "id": "iW7bwjRB9T5C"
   },
   "outputs": [],
   "source": [
    "def detection_de_chocs(Q, R):\n",
    "\n",
    "  m = len(agents)\n",
    "\n",
    "  for i in range(m):\n",
    "    [x , y], r = Q[i], R[i]\n",
    "    marge = .2\n",
    "\n",
    "    #chocs obstacle\n",
    "    for obstacle in obstacles:\n",
    "        [a0, b0], L, l = obstacle.position, obstacle.width, obstacle.height\n",
    "        a1, b1 = a0 + L , b0 + l\n",
    "    \n",
    "        if a0<=x<=a1 and b0-r-marge<=y<=b1+r+marge: return True\n",
    "        if b0<=y<=b1 and a0-r-marge<=x<=a1+r+marge: return True\n",
    "\n",
    "    for obst in obstacles_cir:\n",
    "        [a0, b0], rayon = obst.position, obst.rayon\n",
    "        d = ((x - a0)**2 + (y - b0)**2)**0.5\n",
    "        if d - (rayon+r) < 2 : return True\n",
    "\n",
    "    #chocs agents\n",
    "    for j in range(m):\n",
    "      if j != i:\n",
    "        if dist(Q[i], Q[j]) - (R[i]+R[j]) <= marge: return True\n",
    "  \n",
    "  return False"
   ]
  },
  {
   "cell_type": "code",
   "execution_count": 21,
   "metadata": {
    "id": "ym5Bf2RnTkSK"
   },
   "outputs": [],
   "source": [
    "def predict_position2(V):\n",
    "  p = int(len(V)/2)\n",
    "  V_future =  numpy.array([ numpy.array([V[2*j], V[2*j+1]]) for j in range(p) ])\n",
    "  V_passe =   numpy.array([ numpy.array(agent.speed) for agent in agents ])\n",
    "  \n",
    "  return [numpy.array(agent.position) + dt*(V_future[agents.index(agent)] + V_passe[agents.index(agent)])/2 for agent in agents]"
   ]
  },
  {
   "cell_type": "code",
   "execution_count": 22,
   "metadata": {
    "id": "KEYIT2PxDTbz"
   },
   "outputs": [],
   "source": [
    "def correction_vitesses(V, Pext, K_n):\n",
    "    V, Pext = numpy.array(V), numpy.array(Pext)\n",
    "    p = len(agents)\n",
    "    agents_en_chocs = []\n",
    "\n",
    "    q = predict_position2(V)\n",
    "    R = [agent.size for agent in agents]\n",
    "\n",
    "    if detection_de_chocs(q, R):\n",
    "        # Matrice Masse\n",
    "        M = numpy.zeros((2*p, 2*p))\n",
    "        for i in range(p):\n",
    "            M[2*i][2*i] = agents[i].masse\n",
    "            M[2*i+1][2*i+1] = agents[i].masse\n",
    "    \n",
    "        # Matrice Normales\n",
    "        C_N , agents_en_chocs = matrice_normals(q, R)\n",
    "    \n",
    "        U = dot(C_N.transpose(), C_N)\n",
    "        \n",
    "        P = matrix(numpy.array(M) + 0.5 * K_n * U , tc='d')\n",
    "        q = matrix(numpy.array(dot(M - 0.5 * K_n * U , V) + dt * Pext), tc='d')\n",
    "        G = matrix(numpy.array(C_N), tc='d')\n",
    "        h = matrix(numpy.array(numpy.zeros(len(C_N))), tc='d')\n",
    "        \n",
    "        solvers.options['show_progress'] = False\n",
    "        \n",
    "        return list(solvers.qp(P,-q,-G,h)['x']) , agents_en_chocs\n",
    "\n",
    "    else:\n",
    "        return V , agents_en_chocs"
   ]
  },
  {
   "cell_type": "code",
   "execution_count": 23,
   "metadata": {
    "id": "yeGBM735jto6"
   },
   "outputs": [],
   "source": [
    "def matrice_DistancesEtNormaux(agents):\n",
    "    N_ind = len(agents)\n",
    "    matrice_distance = numpy.zeros((N_ind, N_ind))\n",
    "    matrice_normaux = numpy.zeros((N_ind, N_ind,2))\n",
    "    for i in range(N_ind):\n",
    "        for j in range(N_ind):\n",
    "            if i > j:\n",
    "                d, n = distance_vecteur_obj(agents[i].position, agents[j].position, agents[i].size, agents[j].size)\n",
    "                matrice_distance[i][j] = d\n",
    "                matrice_distance[j][i] = d\n",
    "                matrice_normaux[i][j] = n\n",
    "                matrice_normaux[j][i] = -n\n",
    "    return matrice_distance , matrice_normaux\n",
    "\n",
    "def matrice_DistancesEtNormaux_danger(agents):\n",
    "    N_ind = len(agents)\n",
    "    matrice_distance = numpy.zeros(N_ind)\n",
    "    matrice_normaux = numpy.zeros((N_ind, 2))\n",
    "    for i in range(N_ind):\n",
    "        d = dist(Dangers[0], agents[i].position)\n",
    "        n = norm(numpy.array(Dangers[0]) - numpy.array(agents[i].position))\n",
    "        matrice_distance[i] = d\n",
    "        matrice_normaux[i] = n\n",
    "    return matrice_distance , matrice_normaux"
   ]
  },
  {
   "cell_type": "markdown",
   "metadata": {
    "id": "Z29SnGIi7btc"
   },
   "source": [
    "#Configuration"
   ]
  },
  {
   "cell_type": "code",
   "execution_count": 174,
   "metadata": {
    "colab": {
     "base_uri": "https://localhost:8080/",
     "height": 0
    },
    "id": "JtEPvnsAO-IQ",
    "outputId": "f16dd179-dec3-4931-9b35-8e0d8e4219f5"
   },
   "outputs": [
    {
     "data": {
      "image/png": "[encoded data removed]",
      "text/plain": [
       "<Figure size 1000x1000 with 1 Axes>"
      ]
     },
     "metadata": {},
     "output_type": "display_data"
    }
   ],
   "source": [
    "a , b , eps = 10 , 10 , 0.2\n",
    "size_scene = (a,b)\n",
    "\n",
    "obstacles = [Obstacle((0,0),a,eps), Obstacle((0,eps),eps,b-eps), Obstacle((eps,b-eps),a-eps,eps), Obstacle((a-eps, eps),eps, b-2*eps)]\n",
    "\n",
    "exits = [Exit((0,7.5), eps, 4*eps)]\n",
    "\n",
    "obstacles_cir = []\n",
    "\n",
    "draw(exits, obstacles, obstacles_cir, size_scene, [], 0, 'gemoetrie.png', play=True)"
   ]
  },
  {
   "cell_type": "markdown",
   "metadata": {
    "id": "SQr7zP6cCRXc"
   },
   "source": [
    "#Champs de directions"
   ]
  },
  {
   "cell_type": "code",
   "execution_count": 175,
   "metadata": {
    "id": "HetTJDyfCTX_"
   },
   "outputs": [],
   "source": [
    "h = .5 #pas de discritisation du FAst Marching\n",
    "\n",
    "graph = GridGraph(size_scene,1/h)\n",
    "\n",
    "graph.prepare_graph_for_fast_marching(obstacles, obstacles_cir, exits)\n",
    "\n",
    "fast_marching_method(graph, (0,0))"
   ]
  },
  {
   "cell_type": "code",
   "execution_count": 176,
   "metadata": {
    "id": "gJOONa1OCU5b"
   },
   "outputs": [],
   "source": [
    "d = graph.distances\n",
    "d_tr = []\n",
    "n = len(d)\n",
    "\n",
    "for i in range(n):\n",
    "    d_tr.append(d[n-i-1])\n",
    "\n",
    "FY, FX = numpy.gradient(numpy.array(d_tr))\n",
    "\n",
    "FX = -FX\n",
    "\n",
    "adjust_FM()"
   ]
  },
  {
   "cell_type": "code",
   "execution_count": 177,
   "metadata": {
    "colab": {
     "base_uri": "https://localhost:8080/",
     "height": 0
    },
    "id": "G2SWD5dKCan2",
    "outputId": "e1e22917-eb38-4032-9e69-61044e258243"
   },
   "outputs": [
    {
     "data": {
      "image/png": "[encoded data removed]",
      "text/plain": [
       "<Figure size 1500x1500 with 3 Axes>"
      ]
     },
     "metadata": {},
     "output_type": "display_data"
    }
   ],
   "source": [
    "plot_directions(FX,FY)"
   ]
  },
  {
   "cell_type": "markdown",
   "metadata": {
    "id": "VWI3hsC7WoSq"
   },
   "source": [
    "#Simulation"
   ]
  },
  {
   "cell_type": "code",
   "execution_count": 178,
   "metadata": {},
   "outputs": [],
   "source": [
    "def collect_individuals(data_path):\n",
    "    dataframe=pd.read_csv(data_path)\n",
    "    x_coordinates=list(dataframe.x_coordinate/2)\n",
    "    y_coordinates=list(dataframe.y_coordinate/2)\n",
    "    a , b = size_scene\n",
    "    dst = 0.2\n",
    "    r = 0.2\n",
    "    L = list()\n",
    "    for i in range(len(dataframe)):\n",
    "        choc = False\n",
    "\n",
    "        q = [agent.position for agent in L]\n",
    "        R = [agent.size for agent in L]\n",
    "    \n",
    "        x = x_coordinates[i]\n",
    "        y = b-y_coordinates[i]\n",
    "        q.append([x,y])\n",
    "        R.append(r)\n",
    "\n",
    "\n",
    "        for j in range(len(q)-1):\n",
    "            if dist(q[-1], q[j]) - (R[-1]+R[j]) <= dst:\n",
    "                choc = True\n",
    "                break\n",
    "        \n",
    "        #chocs obstacle\n",
    "        for obstacle in obstacles_cir:\n",
    "            [a0, b0], rayon = obstacle.position, obstacle.rayon\n",
    "            if (x-a0)**2 + (y-b0)**2 < (rayon+3)**2 : choc = True\n",
    "            \n",
    "        for obstacle in obstacles:\n",
    "            [a0, b0], w, l = obstacle.position, obstacle.width, obstacle.height\n",
    "            a1, b1 = a0 + w , b0 + l\n",
    "\n",
    "            if (a0<=x<=a1 and b0-r-0.5<=y<=b1+r+0.5) or (b0<=y<=b1 and a0-r-0.5<=x<=a1+r+0.5): choc = True\n",
    "            elif distance_vecteur_obs([x,y] , r, obstacle)[0] < 0.5: choc = True\n",
    "        choc=False\n",
    "        if not choc:\n",
    "            agent = myAgent((x,y))\n",
    "            agent.size = r\n",
    "            L.append(agent)\n",
    "        \n",
    "\n",
    "    return L"
   ]
  },
  {
   "cell_type": "code",
   "execution_count": null,
   "metadata": {},
   "outputs": [],
   "source": []
  },
  {
   "cell_type": "code",
   "execution_count": 179,
   "metadata": {
    "colab": {
     "base_uri": "https://localhost:8080/",
     "height": 665
    },
    "id": "r2D4B0BX43To",
    "outputId": "a866014c-aa4b-482d-ce0f-bbe8c514bd65"
   },
   "outputs": [
    {
     "data": {
      "image/png": "[encoded data removed]",
      "text/plain": [
       "<Figure size 1000x1000 with 1 Axes>"
      ]
     },
     "metadata": {},
     "output_type": "display_data"
    }
   ],
   "source": [
    "N_pop = 10\n",
    "temps_de_sim = 1*60 #secondes\n",
    "dt = 5e-2\n",
    "N_iter = int(temps_de_sim / dt)\n",
    "data_path='frame_data.csv'\n",
    "agents = collect_individuals(data_path)\n",
    "\n",
    "draw(exits, obstacles, obstacles_cir, size_scene, agents, 0, 'config_init.png', play=True)"
   ]
  },
  {
   "cell_type": "code",
   "execution_count": null,
   "metadata": {},
   "outputs": [],
   "source": []
  },
  {
   "cell_type": "code",
   "execution_count": 180,
   "metadata": {
    "colab": {
     "base_uri": "https://localhost:8080/"
    },
    "id": "soRu0GA4lmjp",
    "outputId": "2c2d42a6-0ad0-45d8-a561-40e2643fc235"
   },
   "outputs": [
    {
     "name": "stdout",
     "output_type": "stream",
     "text": [
      "mkdir: impossible de créer le répertoire «DossierImages»: Le fichier existe\r\n"
     ]
    },
    {
     "name": "stderr",
     "output_type": "stream",
     "text": [
      "100%|███████████████████████████████████████████████████████████████████████████████████████████████████████████████████████████████| 1200/1200 [04:20<00:00,  4.60it/s]\n"
     ]
    },
    {
     "name": "stdout",
     "output_type": "stream",
     "text": [
      "Simulation finished.\n",
      "Recording video ...\n",
      "Video saved.\n"
     ]
    },
    {
     "name": "stderr",
     "output_type": "stream",
     "text": [
      "[ WARN:0@9116.631] global /io/opencv/modules/imgcodecs/src/loadsave.cpp (239) findDecoder imread_('DossierImages/simulation1200.jpg'): can't open/read file: check file path/integrity\n"
     ]
    }
   ],
   "source": [
    "K_n = 0\n",
    "\n",
    "R = [agent.size for agent in agents]\n",
    "\n",
    "!mkdir DossierImages\n",
    "for image in os.listdir('DossierImages'):\n",
    "    os.remove('DossierImages/' + image)\n",
    "\n",
    "for n in tqdm(range(N_iter)):\n",
    "\n",
    "    if len(agents)==0:break\n",
    "\n",
    "    V_avant_correction = []\n",
    "    P = []\n",
    "    matrice_distance , matrice_normaux = matrice_DistancesEtNormaux(agents)\n",
    "\n",
    "    for agent in agents:\n",
    "\n",
    "        agent.update_D_S()\n",
    "        p_ext = f_motrice(agent)\n",
    "        vi = agent.speed + dt*p_ext/agent.masse\n",
    "        V_avant_correction.extend(vi)\n",
    "        P.extend(p_ext)\n",
    "    \n",
    "    V_new , agents_en_chocs = correction_vitesses(V_avant_correction, P, K_n)\n",
    "    q = predict_position2(V_new)\n",
    "\n",
    "    for agent in agents:\n",
    "        k = agents.index(agent)\n",
    "        agent.update_Speed([V_new[2*k] , V_new[2*k+1]])\n",
    "        agent.update_Position(q[k])\n",
    "        \n",
    "    for agent in agents:\n",
    "        if agent.has_reached_exit: agents.remove(agent)\n",
    "\n",
    "    path = 'DossierImages/simulation' + str(n) + '.jpg'\n",
    "    draw(exits, obstacles, obstacles_cir, size_scene, agents,round(n*dt, 2), savepath=path, play = False)\n",
    "    \n",
    "print('Simulation finished.')\n",
    "record_video(speed = 25)"
   ]
  },
  {
   "cell_type": "code",
   "execution_count": 206,
   "metadata": {},
   "outputs": [
    {
     "name": "stdout",
     "output_type": "stream",
     "text": [
      "video processed\n"
     ]
    }
   ],
   "source": [
    "fourcc = cv2.VideoWriter_fourcc(*'DIVX')\n",
    "video_name='./data/simulation_video.avi'\n",
    "height, width, layers = (1000, 1000, 3)\n",
    "video = cv2.VideoWriter(video_name, fourcc, 40, (width, height))\n",
    "for i in range(600):\n",
    "    img = cv2.imread('./DossierImages/simulation{}.jpg'.format(i))\n",
    "    video.write(img)\n",
    "video.release()\n",
    "print('video processed')\n",
    "cv2.destroyAllWindows()"
   ]
  },
  {
   "cell_type": "code",
   "execution_count": null,
   "metadata": {},
   "outputs": [],
   "source": []
  }
 ],
 "metadata": {
  "colab": {
   "collapsed_sections": [
    "nTxNrCZi9zEb",
    "CH9ZeH9f6kJc",
    "jbysM4sGCF9R",
    "ntRK5OEVQ1ki",
    "6knrf8Rp52UA",
    "Z29SnGIi7btc",
    "SQr7zP6cCRXc"
   ],
   "provenance": []
  },
  "kernelspec": {
   "display_name": "traking",
   "language": "python",
   "name": "traking"
  },
  "language_info": {
   "codemirror_mode": {
    "name": "ipython",
    "version": 3
   },
   "file_extension": ".py",
   "mimetype": "text/x-python",
   "name": "python",
   "nbconvert_exporter": "python",
   "pygments_lexer": "ipython3",
   "version": "3.7.0"
  }
 },
 "nbformat": 4,
 "nbformat_minor": 1
}
